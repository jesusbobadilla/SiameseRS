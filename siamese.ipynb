{
 "cells": [
  {
   "attachments": {},
   "cell_type": "markdown",
   "metadata": {},
   "source": [
    "# <center>Recommender Systems: Learning Collaborative Filtering Similarity Measures using Siamese Networks</center>"
   ]
  },
  {
   "cell_type": "code",
   "execution_count": 1,
   "metadata": {
    "ExecuteTime": {
     "end_time": "2023-05-29T15:14:56.052995Z",
     "start_time": "2023-05-29T15:14:54.392601Z"
    }
   },
   "outputs": [],
   "source": [
    "import math\n",
    "from math import factorial\n",
    "import matplotlib.pyplot as plt\n",
    "import numpy as np\n",
    "import pandas as pd\n",
    "import random\n",
    "\n",
    "from scipy.stats import truncnorm\n",
    "\n",
    "from sklearn import metrics\n",
    "from sklearn.model_selection import train_test_split\n",
    "from sklearn.neighbors import NearestNeighbors\n",
    "\n",
    "import tensorflow as tf\n",
    "from tensorflow import keras\n",
    "from tensorflow.keras import layers"
   ]
  },
  {
   "cell_type": "markdown",
   "metadata": {},
   "source": [
    "### Step 1: Obtain the user/item vote matrix"
   ]
  },
  {
   "cell_type": "code",
   "execution_count": 2,
   "metadata": {
    "ExecuteTime": {
     "end_time": "2023-05-29T15:14:56.089320Z",
     "start_time": "2023-05-29T15:14:56.056335Z"
    }
   },
   "outputs": [],
   "source": [
    "df = pd.read_csv(\"ML_100K.data\", header=None, sep=\"\\s+\",\n",
    "                    usecols=[0, 1, 2], names=['user','item','rating'])"
   ]
  },
  {
   "cell_type": "code",
   "execution_count": 3,
   "metadata": {
    "ExecuteTime": {
     "end_time": "2023-05-29T15:14:56.194975Z",
     "start_time": "2023-05-29T15:14:56.091541Z"
    }
   },
   "outputs": [
    {
     "data": {
      "text/plain": [
       "(943, (1, 943))"
      ]
     },
     "execution_count": 3,
     "metadata": {},
     "output_type": "execute_result"
    }
   ],
   "source": [
    "num_users = df.user.nunique()\n",
    "min_user_id = df.user.min()\n",
    "max_user_id = df.user.max()\n",
    "(num_users, (min_user_id, max_user_id))"
   ]
  },
  {
   "cell_type": "code",
   "execution_count": 4,
   "metadata": {
    "ExecuteTime": {
     "end_time": "2023-05-29T15:14:56.205878Z",
     "start_time": "2023-05-29T15:14:56.196877Z"
    }
   },
   "outputs": [
    {
     "data": {
      "text/plain": [
       "(1682, (1, 1682))"
      ]
     },
     "execution_count": 4,
     "metadata": {},
     "output_type": "execute_result"
    }
   ],
   "source": [
    "num_items = df.item.nunique()\n",
    "min_item_id = df.item.min()\n",
    "max_item_id = df.item.max()\n",
    "(num_items, (min_item_id, max_item_id))"
   ]
  },
  {
   "cell_type": "code",
   "execution_count": 5,
   "metadata": {
    "ExecuteTime": {
     "end_time": "2023-05-29T15:14:58.675047Z",
     "start_time": "2023-05-29T15:14:56.207519Z"
    }
   },
   "outputs": [
    {
     "data": {
      "text/html": [
       "<div>\n",
       "<style scoped>\n",
       "    .dataframe tbody tr th:only-of-type {\n",
       "        vertical-align: middle;\n",
       "    }\n",
       "\n",
       "    .dataframe tbody tr th {\n",
       "        vertical-align: top;\n",
       "    }\n",
       "\n",
       "    .dataframe thead th {\n",
       "        text-align: right;\n",
       "    }\n",
       "</style>\n",
       "<table border=\"1\" class=\"dataframe\">\n",
       "  <thead>\n",
       "    <tr style=\"text-align: right;\">\n",
       "      <th>item</th>\n",
       "      <th>1</th>\n",
       "      <th>2</th>\n",
       "      <th>3</th>\n",
       "      <th>4</th>\n",
       "      <th>5</th>\n",
       "      <th>6</th>\n",
       "      <th>7</th>\n",
       "      <th>8</th>\n",
       "      <th>9</th>\n",
       "      <th>10</th>\n",
       "      <th>...</th>\n",
       "      <th>1673</th>\n",
       "      <th>1674</th>\n",
       "      <th>1675</th>\n",
       "      <th>1676</th>\n",
       "      <th>1677</th>\n",
       "      <th>1678</th>\n",
       "      <th>1679</th>\n",
       "      <th>1680</th>\n",
       "      <th>1681</th>\n",
       "      <th>1682</th>\n",
       "    </tr>\n",
       "    <tr>\n",
       "      <th>user</th>\n",
       "      <th></th>\n",
       "      <th></th>\n",
       "      <th></th>\n",
       "      <th></th>\n",
       "      <th></th>\n",
       "      <th></th>\n",
       "      <th></th>\n",
       "      <th></th>\n",
       "      <th></th>\n",
       "      <th></th>\n",
       "      <th></th>\n",
       "      <th></th>\n",
       "      <th></th>\n",
       "      <th></th>\n",
       "      <th></th>\n",
       "      <th></th>\n",
       "      <th></th>\n",
       "      <th></th>\n",
       "      <th></th>\n",
       "      <th></th>\n",
       "      <th></th>\n",
       "    </tr>\n",
       "  </thead>\n",
       "  <tbody>\n",
       "    <tr>\n",
       "      <th>1</th>\n",
       "      <td>5.0</td>\n",
       "      <td>3.0</td>\n",
       "      <td>4.0</td>\n",
       "      <td>3.0</td>\n",
       "      <td>3.0</td>\n",
       "      <td>5.0</td>\n",
       "      <td>4.0</td>\n",
       "      <td>1.0</td>\n",
       "      <td>5.0</td>\n",
       "      <td>3.0</td>\n",
       "      <td>...</td>\n",
       "      <td>0.0</td>\n",
       "      <td>0.0</td>\n",
       "      <td>0.0</td>\n",
       "      <td>0.0</td>\n",
       "      <td>0.0</td>\n",
       "      <td>0.0</td>\n",
       "      <td>0.0</td>\n",
       "      <td>0.0</td>\n",
       "      <td>0.0</td>\n",
       "      <td>0.0</td>\n",
       "    </tr>\n",
       "    <tr>\n",
       "      <th>2</th>\n",
       "      <td>4.0</td>\n",
       "      <td>0.0</td>\n",
       "      <td>0.0</td>\n",
       "      <td>0.0</td>\n",
       "      <td>0.0</td>\n",
       "      <td>0.0</td>\n",
       "      <td>0.0</td>\n",
       "      <td>0.0</td>\n",
       "      <td>0.0</td>\n",
       "      <td>2.0</td>\n",
       "      <td>...</td>\n",
       "      <td>0.0</td>\n",
       "      <td>0.0</td>\n",
       "      <td>0.0</td>\n",
       "      <td>0.0</td>\n",
       "      <td>0.0</td>\n",
       "      <td>0.0</td>\n",
       "      <td>0.0</td>\n",
       "      <td>0.0</td>\n",
       "      <td>0.0</td>\n",
       "      <td>0.0</td>\n",
       "    </tr>\n",
       "    <tr>\n",
       "      <th>3</th>\n",
       "      <td>0.0</td>\n",
       "      <td>0.0</td>\n",
       "      <td>0.0</td>\n",
       "      <td>0.0</td>\n",
       "      <td>0.0</td>\n",
       "      <td>0.0</td>\n",
       "      <td>0.0</td>\n",
       "      <td>0.0</td>\n",
       "      <td>0.0</td>\n",
       "      <td>0.0</td>\n",
       "      <td>...</td>\n",
       "      <td>0.0</td>\n",
       "      <td>0.0</td>\n",
       "      <td>0.0</td>\n",
       "      <td>0.0</td>\n",
       "      <td>0.0</td>\n",
       "      <td>0.0</td>\n",
       "      <td>0.0</td>\n",
       "      <td>0.0</td>\n",
       "      <td>0.0</td>\n",
       "      <td>0.0</td>\n",
       "    </tr>\n",
       "    <tr>\n",
       "      <th>4</th>\n",
       "      <td>0.0</td>\n",
       "      <td>0.0</td>\n",
       "      <td>0.0</td>\n",
       "      <td>0.0</td>\n",
       "      <td>0.0</td>\n",
       "      <td>0.0</td>\n",
       "      <td>0.0</td>\n",
       "      <td>0.0</td>\n",
       "      <td>0.0</td>\n",
       "      <td>0.0</td>\n",
       "      <td>...</td>\n",
       "      <td>0.0</td>\n",
       "      <td>0.0</td>\n",
       "      <td>0.0</td>\n",
       "      <td>0.0</td>\n",
       "      <td>0.0</td>\n",
       "      <td>0.0</td>\n",
       "      <td>0.0</td>\n",
       "      <td>0.0</td>\n",
       "      <td>0.0</td>\n",
       "      <td>0.0</td>\n",
       "    </tr>\n",
       "    <tr>\n",
       "      <th>5</th>\n",
       "      <td>4.0</td>\n",
       "      <td>3.0</td>\n",
       "      <td>0.0</td>\n",
       "      <td>0.0</td>\n",
       "      <td>0.0</td>\n",
       "      <td>0.0</td>\n",
       "      <td>0.0</td>\n",
       "      <td>0.0</td>\n",
       "      <td>0.0</td>\n",
       "      <td>0.0</td>\n",
       "      <td>...</td>\n",
       "      <td>0.0</td>\n",
       "      <td>0.0</td>\n",
       "      <td>0.0</td>\n",
       "      <td>0.0</td>\n",
       "      <td>0.0</td>\n",
       "      <td>0.0</td>\n",
       "      <td>0.0</td>\n",
       "      <td>0.0</td>\n",
       "      <td>0.0</td>\n",
       "      <td>0.0</td>\n",
       "    </tr>\n",
       "    <tr>\n",
       "      <th>...</th>\n",
       "      <td>...</td>\n",
       "      <td>...</td>\n",
       "      <td>...</td>\n",
       "      <td>...</td>\n",
       "      <td>...</td>\n",
       "      <td>...</td>\n",
       "      <td>...</td>\n",
       "      <td>...</td>\n",
       "      <td>...</td>\n",
       "      <td>...</td>\n",
       "      <td>...</td>\n",
       "      <td>...</td>\n",
       "      <td>...</td>\n",
       "      <td>...</td>\n",
       "      <td>...</td>\n",
       "      <td>...</td>\n",
       "      <td>...</td>\n",
       "      <td>...</td>\n",
       "      <td>...</td>\n",
       "      <td>...</td>\n",
       "      <td>...</td>\n",
       "    </tr>\n",
       "    <tr>\n",
       "      <th>939</th>\n",
       "      <td>0.0</td>\n",
       "      <td>0.0</td>\n",
       "      <td>0.0</td>\n",
       "      <td>0.0</td>\n",
       "      <td>0.0</td>\n",
       "      <td>0.0</td>\n",
       "      <td>0.0</td>\n",
       "      <td>0.0</td>\n",
       "      <td>5.0</td>\n",
       "      <td>0.0</td>\n",
       "      <td>...</td>\n",
       "      <td>0.0</td>\n",
       "      <td>0.0</td>\n",
       "      <td>0.0</td>\n",
       "      <td>0.0</td>\n",
       "      <td>0.0</td>\n",
       "      <td>0.0</td>\n",
       "      <td>0.0</td>\n",
       "      <td>0.0</td>\n",
       "      <td>0.0</td>\n",
       "      <td>0.0</td>\n",
       "    </tr>\n",
       "    <tr>\n",
       "      <th>940</th>\n",
       "      <td>0.0</td>\n",
       "      <td>0.0</td>\n",
       "      <td>0.0</td>\n",
       "      <td>2.0</td>\n",
       "      <td>0.0</td>\n",
       "      <td>0.0</td>\n",
       "      <td>4.0</td>\n",
       "      <td>5.0</td>\n",
       "      <td>3.0</td>\n",
       "      <td>0.0</td>\n",
       "      <td>...</td>\n",
       "      <td>0.0</td>\n",
       "      <td>0.0</td>\n",
       "      <td>0.0</td>\n",
       "      <td>0.0</td>\n",
       "      <td>0.0</td>\n",
       "      <td>0.0</td>\n",
       "      <td>0.0</td>\n",
       "      <td>0.0</td>\n",
       "      <td>0.0</td>\n",
       "      <td>0.0</td>\n",
       "    </tr>\n",
       "    <tr>\n",
       "      <th>941</th>\n",
       "      <td>5.0</td>\n",
       "      <td>0.0</td>\n",
       "      <td>0.0</td>\n",
       "      <td>0.0</td>\n",
       "      <td>0.0</td>\n",
       "      <td>0.0</td>\n",
       "      <td>4.0</td>\n",
       "      <td>0.0</td>\n",
       "      <td>0.0</td>\n",
       "      <td>0.0</td>\n",
       "      <td>...</td>\n",
       "      <td>0.0</td>\n",
       "      <td>0.0</td>\n",
       "      <td>0.0</td>\n",
       "      <td>0.0</td>\n",
       "      <td>0.0</td>\n",
       "      <td>0.0</td>\n",
       "      <td>0.0</td>\n",
       "      <td>0.0</td>\n",
       "      <td>0.0</td>\n",
       "      <td>0.0</td>\n",
       "    </tr>\n",
       "    <tr>\n",
       "      <th>942</th>\n",
       "      <td>0.0</td>\n",
       "      <td>0.0</td>\n",
       "      <td>0.0</td>\n",
       "      <td>0.0</td>\n",
       "      <td>0.0</td>\n",
       "      <td>0.0</td>\n",
       "      <td>0.0</td>\n",
       "      <td>0.0</td>\n",
       "      <td>0.0</td>\n",
       "      <td>0.0</td>\n",
       "      <td>...</td>\n",
       "      <td>0.0</td>\n",
       "      <td>0.0</td>\n",
       "      <td>0.0</td>\n",
       "      <td>0.0</td>\n",
       "      <td>0.0</td>\n",
       "      <td>0.0</td>\n",
       "      <td>0.0</td>\n",
       "      <td>0.0</td>\n",
       "      <td>0.0</td>\n",
       "      <td>0.0</td>\n",
       "    </tr>\n",
       "    <tr>\n",
       "      <th>943</th>\n",
       "      <td>0.0</td>\n",
       "      <td>5.0</td>\n",
       "      <td>0.0</td>\n",
       "      <td>0.0</td>\n",
       "      <td>0.0</td>\n",
       "      <td>0.0</td>\n",
       "      <td>0.0</td>\n",
       "      <td>0.0</td>\n",
       "      <td>3.0</td>\n",
       "      <td>0.0</td>\n",
       "      <td>...</td>\n",
       "      <td>0.0</td>\n",
       "      <td>0.0</td>\n",
       "      <td>0.0</td>\n",
       "      <td>0.0</td>\n",
       "      <td>0.0</td>\n",
       "      <td>0.0</td>\n",
       "      <td>0.0</td>\n",
       "      <td>0.0</td>\n",
       "      <td>0.0</td>\n",
       "      <td>0.0</td>\n",
       "    </tr>\n",
       "  </tbody>\n",
       "</table>\n",
       "<p>943 rows × 1682 columns</p>\n",
       "</div>"
      ],
      "text/plain": [
       "item    1    2    3    4    5    6    7    8    9   10  ...  1673  1674  1675  \\\n",
       "user                                                    ...                     \n",
       "1     5.0  3.0  4.0  3.0  3.0  5.0  4.0  1.0  5.0  3.0  ...   0.0   0.0   0.0   \n",
       "2     4.0  0.0  0.0  0.0  0.0  0.0  0.0  0.0  0.0  2.0  ...   0.0   0.0   0.0   \n",
       "3     0.0  0.0  0.0  0.0  0.0  0.0  0.0  0.0  0.0  0.0  ...   0.0   0.0   0.0   \n",
       "4     0.0  0.0  0.0  0.0  0.0  0.0  0.0  0.0  0.0  0.0  ...   0.0   0.0   0.0   \n",
       "5     4.0  3.0  0.0  0.0  0.0  0.0  0.0  0.0  0.0  0.0  ...   0.0   0.0   0.0   \n",
       "...   ...  ...  ...  ...  ...  ...  ...  ...  ...  ...  ...   ...   ...   ...   \n",
       "939   0.0  0.0  0.0  0.0  0.0  0.0  0.0  0.0  5.0  0.0  ...   0.0   0.0   0.0   \n",
       "940   0.0  0.0  0.0  2.0  0.0  0.0  4.0  5.0  3.0  0.0  ...   0.0   0.0   0.0   \n",
       "941   5.0  0.0  0.0  0.0  0.0  0.0  4.0  0.0  0.0  0.0  ...   0.0   0.0   0.0   \n",
       "942   0.0  0.0  0.0  0.0  0.0  0.0  0.0  0.0  0.0  0.0  ...   0.0   0.0   0.0   \n",
       "943   0.0  5.0  0.0  0.0  0.0  0.0  0.0  0.0  3.0  0.0  ...   0.0   0.0   0.0   \n",
       "\n",
       "item  1676  1677  1678  1679  1680  1681  1682  \n",
       "user                                            \n",
       "1      0.0   0.0   0.0   0.0   0.0   0.0   0.0  \n",
       "2      0.0   0.0   0.0   0.0   0.0   0.0   0.0  \n",
       "3      0.0   0.0   0.0   0.0   0.0   0.0   0.0  \n",
       "4      0.0   0.0   0.0   0.0   0.0   0.0   0.0  \n",
       "5      0.0   0.0   0.0   0.0   0.0   0.0   0.0  \n",
       "...    ...   ...   ...   ...   ...   ...   ...  \n",
       "939    0.0   0.0   0.0   0.0   0.0   0.0   0.0  \n",
       "940    0.0   0.0   0.0   0.0   0.0   0.0   0.0  \n",
       "941    0.0   0.0   0.0   0.0   0.0   0.0   0.0  \n",
       "942    0.0   0.0   0.0   0.0   0.0   0.0   0.0  \n",
       "943    0.0   0.0   0.0   0.0   0.0   0.0   0.0  \n",
       "\n",
       "[943 rows x 1682 columns]"
      ]
     },
     "execution_count": 5,
     "metadata": {},
     "output_type": "execute_result"
    }
   ],
   "source": [
    "users = df.groupby(by='item')\n",
    "users_items = pd.DataFrame(index=pd.RangeIndex(min_user_id, max_user_id+1), dtype='int8')\n",
    "users_items.index.name = 'user'\n",
    "users_items.columns.name='item'\n",
    "for group in users.groups:\n",
    "    ux = users.get_group(group)[['user','rating']]\n",
    "    ux.set_index('user', inplace=True)\n",
    "    users_items[str(group)] = ux\n",
    "\n",
    "users_items.fillna(0, inplace=True)\n",
    "users_items"
   ]
  },
  {
   "cell_type": "markdown",
   "metadata": {},
   "source": [
    "#### Number of votes cast/not cast"
   ]
  },
  {
   "cell_type": "code",
   "execution_count": 6,
   "metadata": {
    "ExecuteTime": {
     "end_time": "2023-05-29T15:14:58.705107Z",
     "start_time": "2023-05-29T15:14:58.676595Z"
    }
   },
   "outputs": [],
   "source": [
    "num_cast_votes = (users_items != 0.0).sum(axis=1)"
   ]
  },
  {
   "cell_type": "code",
   "execution_count": 7,
   "metadata": {
    "ExecuteTime": {
     "end_time": "2023-05-29T15:14:58.724729Z",
     "start_time": "2023-05-29T15:14:58.708956Z"
    }
   },
   "outputs": [],
   "source": [
    "num_no_cast_votes = (users_items == 0.0).sum(axis=1)"
   ]
  },
  {
   "cell_type": "markdown",
   "metadata": {},
   "source": [
    "#### Minimum number of votes cast/not cast by a user"
   ]
  },
  {
   "cell_type": "code",
   "execution_count": 8,
   "metadata": {
    "ExecuteTime": {
     "end_time": "2023-05-29T15:14:58.732918Z",
     "start_time": "2023-05-29T15:14:58.727852Z"
    }
   },
   "outputs": [
    {
     "data": {
      "text/plain": [
       "(20, 945)"
      ]
     },
     "execution_count": 8,
     "metadata": {},
     "output_type": "execute_result"
    }
   ],
   "source": [
    "min_cast_votes = num_cast_votes.min()\n",
    "min_no_cast_votes = num_no_cast_votes.min()\n",
    "min_cast_votes, min_no_cast_votes"
   ]
  },
  {
   "cell_type": "markdown",
   "metadata": {},
   "source": [
    "### Paso 2: Dividir los dataset de entrenamiento/test"
   ]
  },
  {
   "cell_type": "code",
   "execution_count": 9,
   "metadata": {
    "ExecuteTime": {
     "end_time": "2023-05-29T15:14:58.754888Z",
     "start_time": "2023-05-29T15:14:58.734834Z"
    }
   },
   "outputs": [],
   "source": [
    "train, test = train_test_split(users_items, test_size=0.25,random_state=50)"
   ]
  },
  {
   "cell_type": "markdown",
   "metadata": {},
   "source": [
    "### Paso 3: Expandir los dataset de entrenamiento/test"
   ]
  },
  {
   "cell_type": "code",
   "execution_count": 10,
   "metadata": {
    "ExecuteTime": {
     "end_time": "2023-05-29T15:14:58.761240Z",
     "start_time": "2023-05-29T15:14:58.757910Z"
    }
   },
   "outputs": [],
   "source": [
    "# Minimum number of votes\n",
    "# can never be greater than the minimum number of votes cast by a user\n",
    "min_num_votes = 10\n",
    "\n",
    "# Maximum number of votes to modify\n",
    "# can never be greater than the minimum number of votes cast by a user\n",
    "max_num_modify_votes = 100\n",
    "\n",
    "# Maximum number of votes to add\n",
    "# can never be greater than the minimum number of items not voted on by a user\n",
    "max_num_add_votes = 300\n",
    "\n",
    "# Maximum number of combinations per user to generate\n",
    "# depends on the number of votes cast and the number of votes to be modified/added\n",
    "max_num_comb = 100"
   ]
  },
  {
   "cell_type": "code",
   "execution_count": 11,
   "metadata": {
    "ExecuteTime": {
     "end_time": "2023-05-29T15:14:58.766709Z",
     "start_time": "2023-05-29T15:14:58.763199Z"
    }
   },
   "outputs": [],
   "source": [
    "def number_of_combinations(m, n):\n",
    "    \"\"\" \n",
    "     Calculates and returns the number of possible combinations\n",
    "     that can be done with m elements taking n items at a time.\n",
    "    \"\"\"\n",
    "    return factorial(m) // (factorial(n) * factorial(m - n))"
   ]
  },
  {
   "cell_type": "code",
   "execution_count": 12,
   "metadata": {
    "ExecuteTime": {
     "end_time": "2023-05-29T15:14:58.771554Z",
     "start_time": "2023-05-29T15:14:58.768610Z"
    }
   },
   "outputs": [],
   "source": [
    "def get_random_combinations(iterable, size_comb, num_comb=1):\n",
    "    \"\"\" \n",
    "     Generates random samples (num_comb) from a given 1-D array (iterable)\n",
    "     width a specific size (size_comb)\n",
    "    \"\"\"\n",
    "    combinations = []\n",
    "    for i in range(1, num_comb+1):\n",
    "        combinations.append(np.random.choice(iterable, size_comb, replace=False).tolist())\n",
    "    return combinations"
   ]
  },
  {
   "cell_type": "code",
   "execution_count": 13,
   "metadata": {
    "ExecuteTime": {
     "end_time": "2023-05-29T15:14:58.775953Z",
     "start_time": "2023-05-29T15:14:58.773122Z"
    }
   },
   "outputs": [],
   "source": [
    "def get_truncated_normal(mean=0, sd=1, low=1, upp=5, size=1):\n",
    "    \"\"\"\n",
    "     Generates random integer values between low and upp, following a Gaussian(mean, sd) distribution\n",
    "    \"\"\"\n",
    "    return np.rint(truncnorm((low - mean) / sd, (upp - mean) / sd, loc=mean, scale=sd).rvs(size))"
   ]
  },
  {
   "cell_type": "code",
   "execution_count": 14,
   "metadata": {
    "ExecuteTime": {
     "end_time": "2023-05-29T15:14:58.782918Z",
     "start_time": "2023-05-29T15:14:58.777443Z"
    }
   },
   "outputs": [],
   "source": [
    "def get_modifications(user_votes):\n",
    "    \"\"\"\n",
    "     Generate modifications on a user's vote matrix\n",
    "    \"\"\"\n",
    "    user = user_votes.name\n",
    "    # returns positions with votes (items id's - 1)\n",
    "    nonzero_user_votes = user_votes.to_numpy().nonzero()[0]\n",
    "    # returns positions with no votes (items id's - 1)\n",
    "    zero_user_votes = (user_votes==0).to_numpy().nonzero()[0]\n",
    "    \n",
    "    # votes to modify\n",
    "    votes_to_modify = min(max_num_modify_votes, num_cast_votes[user] - min_num_votes)\n",
    "    # votes to add\n",
    "    votes_to_add = min(max_num_add_votes, num_no_cast_votes[user] - min_num_votes)\n",
    "\n",
    "    # get the number of combinations to modify\n",
    "    num_modify_comb = min(max_num_comb, number_of_combinations(nonzero_user_votes.size, votes_to_modify))\n",
    "    num_add_comb = min(max_num_comb, number_of_combinations(zero_user_votes.size, votes_to_add))\n",
    "\n",
    "    # Non-repeating combinations of nonzero_user_votes taken in groups of length num_modify_comb\n",
    "    modify_votes_comb = get_random_combinations(nonzero_user_votes, votes_to_modify, num_modify_comb)\n",
    "    # Non-repeating combinations of nonzero_user_votes taken in groups of length num_add_comb\n",
    "    add_votes_comb = get_random_combinations(zero_user_votes, votes_to_add, num_add_comb)\n",
    "    \n",
    "    votes_list = []\n",
    "    # The original vote of the user is added\n",
    "    votes_list.append(user_votes)   \n",
    "    # The modifications of the original vote are obtained\n",
    "    for modify_comb, add_comb in zip(modify_votes_comb, add_votes_comb):\n",
    "        updated_user_votes = user_votes.copy()\n",
    "        # cambios\n",
    "        updated_user_votes.iloc[modify_comb] = np.absolute(\n",
    "            updated_user_votes.iloc[modify_comb].values-vote_distribution[modify_comb])   \n",
    "        # nuevos votos\n",
    "        updated_user_votes.iloc[add_comb] = vote_distribution[add_comb]\n",
    "        votes_list.append(updated_user_votes)\n",
    "        \n",
    "    return votes_list"
   ]
  },
  {
   "cell_type": "markdown",
   "metadata": {},
   "source": [
    "#### Step 3.1: Generate a Gaussian distribution of votes"
   ]
  },
  {
   "cell_type": "code",
   "execution_count": 15,
   "metadata": {
    "ExecuteTime": {
     "end_time": "2023-05-29T15:14:58.801226Z",
     "start_time": "2023-05-29T15:14:58.784463Z"
    }
   },
   "outputs": [
    {
     "data": {
      "text/plain": [
       "array([4., 3., 3., ..., 3., 4., 3.])"
      ]
     },
     "execution_count": 15,
     "metadata": {},
     "output_type": "execute_result"
    }
   ],
   "source": [
    "vote_distribution = get_truncated_normal(mean=3, size=num_items)\n",
    "vote_distribution"
   ]
  },
  {
   "cell_type": "code",
   "execution_count": 16,
   "metadata": {
    "ExecuteTime": {
     "end_time": "2023-05-29T15:14:58.808201Z",
     "start_time": "2023-05-29T15:14:58.803105Z"
    }
   },
   "outputs": [
    {
     "data": {
      "text/plain": [
       "(array([1., 2., 3., 4., 5.]), array([ 72, 416, 695, 421,  78]), 1682)"
      ]
     },
     "execution_count": 16,
     "metadata": {},
     "output_type": "execute_result"
    }
   ],
   "source": [
    "x, y = np.unique(vote_distribution, return_counts=True)\n",
    "x, y, sum(y)"
   ]
  },
  {
   "cell_type": "code",
   "execution_count": 17,
   "metadata": {
    "ExecuteTime": {
     "end_time": "2023-05-29T15:14:58.931665Z",
     "start_time": "2023-05-29T15:14:58.810116Z"
    }
   },
   "outputs": [
    {
     "data": {
      "image/png": "[encoded data removed]",
      "text/plain": [
       "<Figure size 432x288 with 1 Axes>"
      ]
     },
     "metadata": {
      "needs_background": "light"
     },
     "output_type": "display_data"
    }
   ],
   "source": [
    "import matplotlib.pyplot as plt\n",
    "\n",
    "plt.title('votes distribution')\n",
    "plt.ylabel(\"#votes\")\n",
    "plt.xlabel(\"vote value\")\n",
    "plt.bar(x, y, width=1, color=\"orange\")\n",
    "plt.grid(True, axis=\"y\")\n",
    "plt.tight_layout() \n",
    "plt.show()"
   ]
  },
  {
   "cell_type": "markdown",
   "metadata": {},
   "source": [
    "#### Step 3.2: Expand the votes of all training users"
   ]
  },
  {
   "cell_type": "code",
   "execution_count": 18,
   "metadata": {
    "ExecuteTime": {
     "end_time": "2023-05-29T15:15:30.761404Z",
     "start_time": "2023-05-29T15:14:58.933593Z"
    }
   },
   "outputs": [
    {
     "data": {
      "text/html": [
       "<div>\n",
       "<style scoped>\n",
       "    .dataframe tbody tr th:only-of-type {\n",
       "        vertical-align: middle;\n",
       "    }\n",
       "\n",
       "    .dataframe tbody tr th {\n",
       "        vertical-align: top;\n",
       "    }\n",
       "\n",
       "    .dataframe thead th {\n",
       "        text-align: right;\n",
       "    }\n",
       "</style>\n",
       "<table border=\"1\" class=\"dataframe\">\n",
       "  <thead>\n",
       "    <tr style=\"text-align: right;\">\n",
       "      <th>item</th>\n",
       "      <th>1</th>\n",
       "      <th>2</th>\n",
       "      <th>3</th>\n",
       "      <th>4</th>\n",
       "      <th>5</th>\n",
       "      <th>6</th>\n",
       "      <th>7</th>\n",
       "      <th>8</th>\n",
       "      <th>9</th>\n",
       "      <th>10</th>\n",
       "      <th>...</th>\n",
       "      <th>1673</th>\n",
       "      <th>1674</th>\n",
       "      <th>1675</th>\n",
       "      <th>1676</th>\n",
       "      <th>1677</th>\n",
       "      <th>1678</th>\n",
       "      <th>1679</th>\n",
       "      <th>1680</th>\n",
       "      <th>1681</th>\n",
       "      <th>1682</th>\n",
       "    </tr>\n",
       "  </thead>\n",
       "  <tbody>\n",
       "    <tr>\n",
       "      <th>863</th>\n",
       "      <td>0.0</td>\n",
       "      <td>0.0</td>\n",
       "      <td>0.0</td>\n",
       "      <td>0.0</td>\n",
       "      <td>0.0</td>\n",
       "      <td>0.0</td>\n",
       "      <td>0.0</td>\n",
       "      <td>0.0</td>\n",
       "      <td>0.0</td>\n",
       "      <td>0.0</td>\n",
       "      <td>...</td>\n",
       "      <td>0.0</td>\n",
       "      <td>0.0</td>\n",
       "      <td>0.0</td>\n",
       "      <td>0.0</td>\n",
       "      <td>0.0</td>\n",
       "      <td>1.0</td>\n",
       "      <td>3.0</td>\n",
       "      <td>2.0</td>\n",
       "      <td>0.0</td>\n",
       "      <td>0.0</td>\n",
       "    </tr>\n",
       "    <tr>\n",
       "      <th>863</th>\n",
       "      <td>0.0</td>\n",
       "      <td>3.0</td>\n",
       "      <td>0.0</td>\n",
       "      <td>0.0</td>\n",
       "      <td>0.0</td>\n",
       "      <td>0.0</td>\n",
       "      <td>5.0</td>\n",
       "      <td>0.0</td>\n",
       "      <td>0.0</td>\n",
       "      <td>3.0</td>\n",
       "      <td>...</td>\n",
       "      <td>0.0</td>\n",
       "      <td>0.0</td>\n",
       "      <td>2.0</td>\n",
       "      <td>0.0</td>\n",
       "      <td>5.0</td>\n",
       "      <td>1.0</td>\n",
       "      <td>1.0</td>\n",
       "      <td>1.0</td>\n",
       "      <td>0.0</td>\n",
       "      <td>0.0</td>\n",
       "    </tr>\n",
       "    <tr>\n",
       "      <th>863</th>\n",
       "      <td>0.0</td>\n",
       "      <td>0.0</td>\n",
       "      <td>0.0</td>\n",
       "      <td>0.0</td>\n",
       "      <td>0.0</td>\n",
       "      <td>0.0</td>\n",
       "      <td>0.0</td>\n",
       "      <td>0.0</td>\n",
       "      <td>0.0</td>\n",
       "      <td>3.0</td>\n",
       "      <td>...</td>\n",
       "      <td>0.0</td>\n",
       "      <td>0.0</td>\n",
       "      <td>2.0</td>\n",
       "      <td>0.0</td>\n",
       "      <td>0.0</td>\n",
       "      <td>1.0</td>\n",
       "      <td>1.0</td>\n",
       "      <td>1.0</td>\n",
       "      <td>0.0</td>\n",
       "      <td>0.0</td>\n",
       "    </tr>\n",
       "    <tr>\n",
       "      <th>863</th>\n",
       "      <td>0.0</td>\n",
       "      <td>0.0</td>\n",
       "      <td>0.0</td>\n",
       "      <td>0.0</td>\n",
       "      <td>0.0</td>\n",
       "      <td>4.0</td>\n",
       "      <td>0.0</td>\n",
       "      <td>0.0</td>\n",
       "      <td>0.0</td>\n",
       "      <td>0.0</td>\n",
       "      <td>...</td>\n",
       "      <td>0.0</td>\n",
       "      <td>0.0</td>\n",
       "      <td>2.0</td>\n",
       "      <td>0.0</td>\n",
       "      <td>0.0</td>\n",
       "      <td>1.0</td>\n",
       "      <td>1.0</td>\n",
       "      <td>2.0</td>\n",
       "      <td>0.0</td>\n",
       "      <td>0.0</td>\n",
       "    </tr>\n",
       "    <tr>\n",
       "      <th>863</th>\n",
       "      <td>0.0</td>\n",
       "      <td>0.0</td>\n",
       "      <td>0.0</td>\n",
       "      <td>4.0</td>\n",
       "      <td>3.0</td>\n",
       "      <td>0.0</td>\n",
       "      <td>0.0</td>\n",
       "      <td>0.0</td>\n",
       "      <td>0.0</td>\n",
       "      <td>3.0</td>\n",
       "      <td>...</td>\n",
       "      <td>0.0</td>\n",
       "      <td>0.0</td>\n",
       "      <td>0.0</td>\n",
       "      <td>4.0</td>\n",
       "      <td>0.0</td>\n",
       "      <td>1.0</td>\n",
       "      <td>1.0</td>\n",
       "      <td>2.0</td>\n",
       "      <td>4.0</td>\n",
       "      <td>0.0</td>\n",
       "    </tr>\n",
       "    <tr>\n",
       "      <th>...</th>\n",
       "      <td>...</td>\n",
       "      <td>...</td>\n",
       "      <td>...</td>\n",
       "      <td>...</td>\n",
       "      <td>...</td>\n",
       "      <td>...</td>\n",
       "      <td>...</td>\n",
       "      <td>...</td>\n",
       "      <td>...</td>\n",
       "      <td>...</td>\n",
       "      <td>...</td>\n",
       "      <td>...</td>\n",
       "      <td>...</td>\n",
       "      <td>...</td>\n",
       "      <td>...</td>\n",
       "      <td>...</td>\n",
       "      <td>...</td>\n",
       "      <td>...</td>\n",
       "      <td>...</td>\n",
       "      <td>...</td>\n",
       "      <td>...</td>\n",
       "    </tr>\n",
       "    <tr>\n",
       "      <th>689</th>\n",
       "      <td>1.0</td>\n",
       "      <td>0.0</td>\n",
       "      <td>3.0</td>\n",
       "      <td>0.0</td>\n",
       "      <td>0.0</td>\n",
       "      <td>0.0</td>\n",
       "      <td>0.0</td>\n",
       "      <td>0.0</td>\n",
       "      <td>0.0</td>\n",
       "      <td>0.0</td>\n",
       "      <td>...</td>\n",
       "      <td>0.0</td>\n",
       "      <td>0.0</td>\n",
       "      <td>0.0</td>\n",
       "      <td>0.0</td>\n",
       "      <td>5.0</td>\n",
       "      <td>0.0</td>\n",
       "      <td>0.0</td>\n",
       "      <td>0.0</td>\n",
       "      <td>4.0</td>\n",
       "      <td>0.0</td>\n",
       "    </tr>\n",
       "    <tr>\n",
       "      <th>689</th>\n",
       "      <td>1.0</td>\n",
       "      <td>0.0</td>\n",
       "      <td>0.0</td>\n",
       "      <td>0.0</td>\n",
       "      <td>3.0</td>\n",
       "      <td>0.0</td>\n",
       "      <td>0.0</td>\n",
       "      <td>3.0</td>\n",
       "      <td>0.0</td>\n",
       "      <td>0.0</td>\n",
       "      <td>...</td>\n",
       "      <td>4.0</td>\n",
       "      <td>0.0</td>\n",
       "      <td>0.0</td>\n",
       "      <td>0.0</td>\n",
       "      <td>0.0</td>\n",
       "      <td>2.0</td>\n",
       "      <td>0.0</td>\n",
       "      <td>0.0</td>\n",
       "      <td>0.0</td>\n",
       "      <td>0.0</td>\n",
       "    </tr>\n",
       "    <tr>\n",
       "      <th>689</th>\n",
       "      <td>1.0</td>\n",
       "      <td>0.0</td>\n",
       "      <td>3.0</td>\n",
       "      <td>0.0</td>\n",
       "      <td>0.0</td>\n",
       "      <td>4.0</td>\n",
       "      <td>0.0</td>\n",
       "      <td>0.0</td>\n",
       "      <td>1.0</td>\n",
       "      <td>0.0</td>\n",
       "      <td>...</td>\n",
       "      <td>0.0</td>\n",
       "      <td>0.0</td>\n",
       "      <td>0.0</td>\n",
       "      <td>4.0</td>\n",
       "      <td>0.0</td>\n",
       "      <td>0.0</td>\n",
       "      <td>0.0</td>\n",
       "      <td>3.0</td>\n",
       "      <td>0.0</td>\n",
       "      <td>0.0</td>\n",
       "    </tr>\n",
       "    <tr>\n",
       "      <th>689</th>\n",
       "      <td>3.0</td>\n",
       "      <td>3.0</td>\n",
       "      <td>0.0</td>\n",
       "      <td>0.0</td>\n",
       "      <td>0.0</td>\n",
       "      <td>4.0</td>\n",
       "      <td>0.0</td>\n",
       "      <td>0.0</td>\n",
       "      <td>0.0</td>\n",
       "      <td>0.0</td>\n",
       "      <td>...</td>\n",
       "      <td>4.0</td>\n",
       "      <td>0.0</td>\n",
       "      <td>0.0</td>\n",
       "      <td>0.0</td>\n",
       "      <td>0.0</td>\n",
       "      <td>0.0</td>\n",
       "      <td>0.0</td>\n",
       "      <td>0.0</td>\n",
       "      <td>0.0</td>\n",
       "      <td>0.0</td>\n",
       "    </tr>\n",
       "    <tr>\n",
       "      <th>689</th>\n",
       "      <td>1.0</td>\n",
       "      <td>0.0</td>\n",
       "      <td>0.0</td>\n",
       "      <td>0.0</td>\n",
       "      <td>0.0</td>\n",
       "      <td>0.0</td>\n",
       "      <td>0.0</td>\n",
       "      <td>3.0</td>\n",
       "      <td>0.0</td>\n",
       "      <td>0.0</td>\n",
       "      <td>...</td>\n",
       "      <td>0.0</td>\n",
       "      <td>0.0</td>\n",
       "      <td>0.0</td>\n",
       "      <td>0.0</td>\n",
       "      <td>0.0</td>\n",
       "      <td>0.0</td>\n",
       "      <td>0.0</td>\n",
       "      <td>0.0</td>\n",
       "      <td>0.0</td>\n",
       "      <td>3.0</td>\n",
       "    </tr>\n",
       "  </tbody>\n",
       "</table>\n",
       "<p>71407 rows × 1682 columns</p>\n",
       "</div>"
      ],
      "text/plain": [
       "item    1    2    3    4    5    6    7    8    9   10  ...  1673  1674  1675  \\\n",
       "863   0.0  0.0  0.0  0.0  0.0  0.0  0.0  0.0  0.0  0.0  ...   0.0   0.0   0.0   \n",
       "863   0.0  3.0  0.0  0.0  0.0  0.0  5.0  0.0  0.0  3.0  ...   0.0   0.0   2.0   \n",
       "863   0.0  0.0  0.0  0.0  0.0  0.0  0.0  0.0  0.0  3.0  ...   0.0   0.0   2.0   \n",
       "863   0.0  0.0  0.0  0.0  0.0  4.0  0.0  0.0  0.0  0.0  ...   0.0   0.0   2.0   \n",
       "863   0.0  0.0  0.0  4.0  3.0  0.0  0.0  0.0  0.0  3.0  ...   0.0   0.0   0.0   \n",
       "..    ...  ...  ...  ...  ...  ...  ...  ...  ...  ...  ...   ...   ...   ...   \n",
       "689   1.0  0.0  3.0  0.0  0.0  0.0  0.0  0.0  0.0  0.0  ...   0.0   0.0   0.0   \n",
       "689   1.0  0.0  0.0  0.0  3.0  0.0  0.0  3.0  0.0  0.0  ...   4.0   0.0   0.0   \n",
       "689   1.0  0.0  3.0  0.0  0.0  4.0  0.0  0.0  1.0  0.0  ...   0.0   0.0   0.0   \n",
       "689   3.0  3.0  0.0  0.0  0.0  4.0  0.0  0.0  0.0  0.0  ...   4.0   0.0   0.0   \n",
       "689   1.0  0.0  0.0  0.0  0.0  0.0  0.0  3.0  0.0  0.0  ...   0.0   0.0   0.0   \n",
       "\n",
       "item  1676  1677  1678  1679  1680  1681  1682  \n",
       "863    0.0   0.0   1.0   3.0   2.0   0.0   0.0  \n",
       "863    0.0   5.0   1.0   1.0   1.0   0.0   0.0  \n",
       "863    0.0   0.0   1.0   1.0   1.0   0.0   0.0  \n",
       "863    0.0   0.0   1.0   1.0   2.0   0.0   0.0  \n",
       "863    4.0   0.0   1.0   1.0   2.0   4.0   0.0  \n",
       "..     ...   ...   ...   ...   ...   ...   ...  \n",
       "689    0.0   5.0   0.0   0.0   0.0   4.0   0.0  \n",
       "689    0.0   0.0   2.0   0.0   0.0   0.0   0.0  \n",
       "689    4.0   0.0   0.0   0.0   3.0   0.0   0.0  \n",
       "689    0.0   0.0   0.0   0.0   0.0   0.0   0.0  \n",
       "689    0.0   0.0   0.0   0.0   0.0   0.0   3.0  \n",
       "\n",
       "[71407 rows x 1682 columns]"
      ]
     },
     "execution_count": 18,
     "metadata": {},
     "output_type": "execute_result"
    }
   ],
   "source": [
    "votes_list = []\n",
    "for user in train.index:\n",
    "    user_votes = train.loc[user]\n",
    "    votes_list.extend(get_modifications(user_votes))\n",
    "    \n",
    "expanded_train = pd.DataFrame(votes_list, columns=users_items.columns)\n",
    "expanded_train.fillna(0, inplace=True)\n",
    "expanded_train"
   ]
  },
  {
   "cell_type": "markdown",
   "metadata": {},
   "source": [
    "#### Step 3.3: Expand the votes of all test users"
   ]
  },
  {
   "cell_type": "code",
   "execution_count": 19,
   "metadata": {
    "ExecuteTime": {
     "end_time": "2023-05-29T15:15:40.583636Z",
     "start_time": "2023-05-29T15:15:30.763618Z"
    }
   },
   "outputs": [
    {
     "data": {
      "text/html": [
       "<div>\n",
       "<style scoped>\n",
       "    .dataframe tbody tr th:only-of-type {\n",
       "        vertical-align: middle;\n",
       "    }\n",
       "\n",
       "    .dataframe tbody tr th {\n",
       "        vertical-align: top;\n",
       "    }\n",
       "\n",
       "    .dataframe thead th {\n",
       "        text-align: right;\n",
       "    }\n",
       "</style>\n",
       "<table border=\"1\" class=\"dataframe\">\n",
       "  <thead>\n",
       "    <tr style=\"text-align: right;\">\n",
       "      <th>item</th>\n",
       "      <th>1</th>\n",
       "      <th>2</th>\n",
       "      <th>3</th>\n",
       "      <th>4</th>\n",
       "      <th>5</th>\n",
       "      <th>6</th>\n",
       "      <th>7</th>\n",
       "      <th>8</th>\n",
       "      <th>9</th>\n",
       "      <th>10</th>\n",
       "      <th>...</th>\n",
       "      <th>1673</th>\n",
       "      <th>1674</th>\n",
       "      <th>1675</th>\n",
       "      <th>1676</th>\n",
       "      <th>1677</th>\n",
       "      <th>1678</th>\n",
       "      <th>1679</th>\n",
       "      <th>1680</th>\n",
       "      <th>1681</th>\n",
       "      <th>1682</th>\n",
       "    </tr>\n",
       "  </thead>\n",
       "  <tbody>\n",
       "    <tr>\n",
       "      <th>443</th>\n",
       "      <td>0.0</td>\n",
       "      <td>0.0</td>\n",
       "      <td>0.0</td>\n",
       "      <td>0.0</td>\n",
       "      <td>0.0</td>\n",
       "      <td>0.0</td>\n",
       "      <td>0.0</td>\n",
       "      <td>0.0</td>\n",
       "      <td>0.0</td>\n",
       "      <td>0.0</td>\n",
       "      <td>...</td>\n",
       "      <td>0.0</td>\n",
       "      <td>0.0</td>\n",
       "      <td>0.0</td>\n",
       "      <td>0.0</td>\n",
       "      <td>0.0</td>\n",
       "      <td>0.0</td>\n",
       "      <td>0.0</td>\n",
       "      <td>0.0</td>\n",
       "      <td>0.0</td>\n",
       "      <td>0.0</td>\n",
       "    </tr>\n",
       "    <tr>\n",
       "      <th>443</th>\n",
       "      <td>0.0</td>\n",
       "      <td>0.0</td>\n",
       "      <td>3.0</td>\n",
       "      <td>0.0</td>\n",
       "      <td>0.0</td>\n",
       "      <td>0.0</td>\n",
       "      <td>0.0</td>\n",
       "      <td>3.0</td>\n",
       "      <td>0.0</td>\n",
       "      <td>3.0</td>\n",
       "      <td>...</td>\n",
       "      <td>0.0</td>\n",
       "      <td>0.0</td>\n",
       "      <td>0.0</td>\n",
       "      <td>0.0</td>\n",
       "      <td>0.0</td>\n",
       "      <td>0.0</td>\n",
       "      <td>0.0</td>\n",
       "      <td>3.0</td>\n",
       "      <td>0.0</td>\n",
       "      <td>0.0</td>\n",
       "    </tr>\n",
       "    <tr>\n",
       "      <th>443</th>\n",
       "      <td>0.0</td>\n",
       "      <td>0.0</td>\n",
       "      <td>3.0</td>\n",
       "      <td>0.0</td>\n",
       "      <td>0.0</td>\n",
       "      <td>0.0</td>\n",
       "      <td>5.0</td>\n",
       "      <td>3.0</td>\n",
       "      <td>0.0</td>\n",
       "      <td>3.0</td>\n",
       "      <td>...</td>\n",
       "      <td>0.0</td>\n",
       "      <td>0.0</td>\n",
       "      <td>0.0</td>\n",
       "      <td>0.0</td>\n",
       "      <td>0.0</td>\n",
       "      <td>2.0</td>\n",
       "      <td>0.0</td>\n",
       "      <td>0.0</td>\n",
       "      <td>0.0</td>\n",
       "      <td>0.0</td>\n",
       "    </tr>\n",
       "    <tr>\n",
       "      <th>443</th>\n",
       "      <td>0.0</td>\n",
       "      <td>0.0</td>\n",
       "      <td>0.0</td>\n",
       "      <td>4.0</td>\n",
       "      <td>0.0</td>\n",
       "      <td>0.0</td>\n",
       "      <td>0.0</td>\n",
       "      <td>0.0</td>\n",
       "      <td>0.0</td>\n",
       "      <td>0.0</td>\n",
       "      <td>...</td>\n",
       "      <td>0.0</td>\n",
       "      <td>0.0</td>\n",
       "      <td>0.0</td>\n",
       "      <td>0.0</td>\n",
       "      <td>0.0</td>\n",
       "      <td>2.0</td>\n",
       "      <td>0.0</td>\n",
       "      <td>0.0</td>\n",
       "      <td>0.0</td>\n",
       "      <td>0.0</td>\n",
       "    </tr>\n",
       "    <tr>\n",
       "      <th>443</th>\n",
       "      <td>0.0</td>\n",
       "      <td>3.0</td>\n",
       "      <td>3.0</td>\n",
       "      <td>0.0</td>\n",
       "      <td>0.0</td>\n",
       "      <td>0.0</td>\n",
       "      <td>0.0</td>\n",
       "      <td>0.0</td>\n",
       "      <td>0.0</td>\n",
       "      <td>3.0</td>\n",
       "      <td>...</td>\n",
       "      <td>0.0</td>\n",
       "      <td>0.0</td>\n",
       "      <td>0.0</td>\n",
       "      <td>0.0</td>\n",
       "      <td>0.0</td>\n",
       "      <td>2.0</td>\n",
       "      <td>0.0</td>\n",
       "      <td>0.0</td>\n",
       "      <td>0.0</td>\n",
       "      <td>3.0</td>\n",
       "    </tr>\n",
       "    <tr>\n",
       "      <th>...</th>\n",
       "      <td>...</td>\n",
       "      <td>...</td>\n",
       "      <td>...</td>\n",
       "      <td>...</td>\n",
       "      <td>...</td>\n",
       "      <td>...</td>\n",
       "      <td>...</td>\n",
       "      <td>...</td>\n",
       "      <td>...</td>\n",
       "      <td>...</td>\n",
       "      <td>...</td>\n",
       "      <td>...</td>\n",
       "      <td>...</td>\n",
       "      <td>...</td>\n",
       "      <td>...</td>\n",
       "      <td>...</td>\n",
       "      <td>...</td>\n",
       "      <td>...</td>\n",
       "      <td>...</td>\n",
       "      <td>...</td>\n",
       "      <td>...</td>\n",
       "    </tr>\n",
       "    <tr>\n",
       "      <th>204</th>\n",
       "      <td>2.0</td>\n",
       "      <td>3.0</td>\n",
       "      <td>0.0</td>\n",
       "      <td>0.0</td>\n",
       "      <td>0.0</td>\n",
       "      <td>0.0</td>\n",
       "      <td>0.0</td>\n",
       "      <td>0.0</td>\n",
       "      <td>4.0</td>\n",
       "      <td>0.0</td>\n",
       "      <td>...</td>\n",
       "      <td>0.0</td>\n",
       "      <td>0.0</td>\n",
       "      <td>0.0</td>\n",
       "      <td>0.0</td>\n",
       "      <td>0.0</td>\n",
       "      <td>2.0</td>\n",
       "      <td>0.0</td>\n",
       "      <td>0.0</td>\n",
       "      <td>0.0</td>\n",
       "      <td>0.0</td>\n",
       "    </tr>\n",
       "    <tr>\n",
       "      <th>204</th>\n",
       "      <td>2.0</td>\n",
       "      <td>3.0</td>\n",
       "      <td>0.0</td>\n",
       "      <td>0.0</td>\n",
       "      <td>0.0</td>\n",
       "      <td>0.0</td>\n",
       "      <td>0.0</td>\n",
       "      <td>0.0</td>\n",
       "      <td>4.0</td>\n",
       "      <td>0.0</td>\n",
       "      <td>...</td>\n",
       "      <td>0.0</td>\n",
       "      <td>0.0</td>\n",
       "      <td>0.0</td>\n",
       "      <td>0.0</td>\n",
       "      <td>0.0</td>\n",
       "      <td>0.0</td>\n",
       "      <td>0.0</td>\n",
       "      <td>0.0</td>\n",
       "      <td>0.0</td>\n",
       "      <td>0.0</td>\n",
       "    </tr>\n",
       "    <tr>\n",
       "      <th>204</th>\n",
       "      <td>2.0</td>\n",
       "      <td>0.0</td>\n",
       "      <td>0.0</td>\n",
       "      <td>4.0</td>\n",
       "      <td>0.0</td>\n",
       "      <td>0.0</td>\n",
       "      <td>0.0</td>\n",
       "      <td>0.0</td>\n",
       "      <td>5.0</td>\n",
       "      <td>0.0</td>\n",
       "      <td>...</td>\n",
       "      <td>0.0</td>\n",
       "      <td>4.0</td>\n",
       "      <td>0.0</td>\n",
       "      <td>0.0</td>\n",
       "      <td>0.0</td>\n",
       "      <td>0.0</td>\n",
       "      <td>0.0</td>\n",
       "      <td>3.0</td>\n",
       "      <td>0.0</td>\n",
       "      <td>0.0</td>\n",
       "    </tr>\n",
       "    <tr>\n",
       "      <th>204</th>\n",
       "      <td>2.0</td>\n",
       "      <td>0.0</td>\n",
       "      <td>0.0</td>\n",
       "      <td>0.0</td>\n",
       "      <td>0.0</td>\n",
       "      <td>0.0</td>\n",
       "      <td>5.0</td>\n",
       "      <td>0.0</td>\n",
       "      <td>4.0</td>\n",
       "      <td>0.0</td>\n",
       "      <td>...</td>\n",
       "      <td>4.0</td>\n",
       "      <td>0.0</td>\n",
       "      <td>0.0</td>\n",
       "      <td>0.0</td>\n",
       "      <td>0.0</td>\n",
       "      <td>0.0</td>\n",
       "      <td>0.0</td>\n",
       "      <td>0.0</td>\n",
       "      <td>0.0</td>\n",
       "      <td>0.0</td>\n",
       "    </tr>\n",
       "    <tr>\n",
       "      <th>204</th>\n",
       "      <td>2.0</td>\n",
       "      <td>0.0</td>\n",
       "      <td>0.0</td>\n",
       "      <td>0.0</td>\n",
       "      <td>3.0</td>\n",
       "      <td>4.0</td>\n",
       "      <td>0.0</td>\n",
       "      <td>0.0</td>\n",
       "      <td>5.0</td>\n",
       "      <td>0.0</td>\n",
       "      <td>...</td>\n",
       "      <td>0.0</td>\n",
       "      <td>0.0</td>\n",
       "      <td>0.0</td>\n",
       "      <td>4.0</td>\n",
       "      <td>0.0</td>\n",
       "      <td>0.0</td>\n",
       "      <td>0.0</td>\n",
       "      <td>0.0</td>\n",
       "      <td>4.0</td>\n",
       "      <td>0.0</td>\n",
       "    </tr>\n",
       "  </tbody>\n",
       "</table>\n",
       "<p>23836 rows × 1682 columns</p>\n",
       "</div>"
      ],
      "text/plain": [
       "item    1    2    3    4    5    6    7    8    9   10  ...  1673  1674  1675  \\\n",
       "443   0.0  0.0  0.0  0.0  0.0  0.0  0.0  0.0  0.0  0.0  ...   0.0   0.0   0.0   \n",
       "443   0.0  0.0  3.0  0.0  0.0  0.0  0.0  3.0  0.0  3.0  ...   0.0   0.0   0.0   \n",
       "443   0.0  0.0  3.0  0.0  0.0  0.0  5.0  3.0  0.0  3.0  ...   0.0   0.0   0.0   \n",
       "443   0.0  0.0  0.0  4.0  0.0  0.0  0.0  0.0  0.0  0.0  ...   0.0   0.0   0.0   \n",
       "443   0.0  3.0  3.0  0.0  0.0  0.0  0.0  0.0  0.0  3.0  ...   0.0   0.0   0.0   \n",
       "..    ...  ...  ...  ...  ...  ...  ...  ...  ...  ...  ...   ...   ...   ...   \n",
       "204   2.0  3.0  0.0  0.0  0.0  0.0  0.0  0.0  4.0  0.0  ...   0.0   0.0   0.0   \n",
       "204   2.0  3.0  0.0  0.0  0.0  0.0  0.0  0.0  4.0  0.0  ...   0.0   0.0   0.0   \n",
       "204   2.0  0.0  0.0  4.0  0.0  0.0  0.0  0.0  5.0  0.0  ...   0.0   4.0   0.0   \n",
       "204   2.0  0.0  0.0  0.0  0.0  0.0  5.0  0.0  4.0  0.0  ...   4.0   0.0   0.0   \n",
       "204   2.0  0.0  0.0  0.0  3.0  4.0  0.0  0.0  5.0  0.0  ...   0.0   0.0   0.0   \n",
       "\n",
       "item  1676  1677  1678  1679  1680  1681  1682  \n",
       "443    0.0   0.0   0.0   0.0   0.0   0.0   0.0  \n",
       "443    0.0   0.0   0.0   0.0   3.0   0.0   0.0  \n",
       "443    0.0   0.0   2.0   0.0   0.0   0.0   0.0  \n",
       "443    0.0   0.0   2.0   0.0   0.0   0.0   0.0  \n",
       "443    0.0   0.0   2.0   0.0   0.0   0.0   3.0  \n",
       "..     ...   ...   ...   ...   ...   ...   ...  \n",
       "204    0.0   0.0   2.0   0.0   0.0   0.0   0.0  \n",
       "204    0.0   0.0   0.0   0.0   0.0   0.0   0.0  \n",
       "204    0.0   0.0   0.0   0.0   3.0   0.0   0.0  \n",
       "204    0.0   0.0   0.0   0.0   0.0   0.0   0.0  \n",
       "204    4.0   0.0   0.0   0.0   0.0   4.0   0.0  \n",
       "\n",
       "[23836 rows x 1682 columns]"
      ]
     },
     "execution_count": 19,
     "metadata": {},
     "output_type": "execute_result"
    }
   ],
   "source": [
    "votes_list = []\n",
    "for user in test.index:\n",
    "    user_votes = test.loc[user]\n",
    "    votes_list.extend(get_modifications(user_votes))\n",
    "    \n",
    "expanded_test = pd.DataFrame(votes_list, columns=users_items.columns)\n",
    "expanded_test.fillna(0, inplace=True)\n",
    "expanded_test"
   ]
  },
  {
   "cell_type": "markdown",
   "metadata": {},
   "source": [
    "#### Step 3.3: Get `x_train_set` and `y_train_set`"
   ]
  },
  {
   "cell_type": "code",
   "execution_count": 20,
   "metadata": {
    "ExecuteTime": {
     "end_time": "2023-05-29T15:15:40.588749Z",
     "start_time": "2023-05-29T15:15:40.585725Z"
    }
   },
   "outputs": [],
   "source": [
    "# number of pairs to generate\n",
    "n_pairs = 100000"
   ]
  },
  {
   "cell_type": "code",
   "execution_count": 21,
   "metadata": {
    "ExecuteTime": {
     "end_time": "2023-05-29T15:15:40.656013Z",
     "start_time": "2023-05-29T15:15:40.590488Z"
    }
   },
   "outputs": [],
   "source": [
    "# equal pairs of expanded training rows\n",
    "equals_pairs = []\n",
    "random_entries = np.random.randint(0, expanded_train.shape[0]-1, (n_pairs//2, 1))\n",
    "for user_i in random_entries:\n",
    "    equals_pairs.append([user_i[0], user_i[0]+1])\n",
    "\n",
    "equals_pairs = np.array(equals_pairs)"
   ]
  },
  {
   "cell_type": "code",
   "execution_count": 22,
   "metadata": {
    "ExecuteTime": {
     "end_time": "2023-05-29T15:15:40.664773Z",
     "start_time": "2023-05-29T15:15:40.660965Z"
    }
   },
   "outputs": [],
   "source": [
    "# random pairs of expanded training rows\n",
    "random_pairs = np.random.randint(0, expanded_train.shape[0], (n_pairs//2, 2))"
   ]
  },
  {
   "cell_type": "code",
   "execution_count": 23,
   "metadata": {
    "ExecuteTime": {
     "end_time": "2023-05-29T15:15:40.754984Z",
     "start_time": "2023-05-29T15:15:40.667183Z"
    }
   },
   "outputs": [],
   "source": [
    "pairs = np.concatenate([equals_pairs, random_pairs])\n",
    "np.random.shuffle(pairs)"
   ]
  },
  {
   "cell_type": "code",
   "execution_count": 24,
   "metadata": {
    "ExecuteTime": {
     "end_time": "2023-05-29T15:17:38.763449Z",
     "start_time": "2023-05-29T15:15:40.757721Z"
    }
   },
   "outputs": [],
   "source": [
    "x_train_set = []\n",
    "y_train_set = []\n",
    "for user_i, user_j in pairs:\n",
    "    x_train_set.append([expanded_train.iloc[user_i], expanded_train.iloc[user_j]])\n",
    "    if expanded_train.iloc[user_i].name == expanded_train.iloc[user_j].name:\n",
    "        y_train_set.append(1)\n",
    "    else:\n",
    "        y_train_set.append(0)\n",
    "\n",
    "x_train_set = np.array(x_train_set)\n",
    "y_train_set = np.array(y_train_set)"
   ]
  },
  {
   "cell_type": "code",
   "execution_count": 25,
   "metadata": {
    "ExecuteTime": {
     "end_time": "2023-05-29T15:17:38.772261Z",
     "start_time": "2023-05-29T15:17:38.766719Z"
    },
    "scrolled": true
   },
   "outputs": [
    {
     "data": {
      "text/plain": [
       "(100000, 2, 1682)"
      ]
     },
     "execution_count": 25,
     "metadata": {},
     "output_type": "execute_result"
    }
   ],
   "source": [
    "x_train_set.shape"
   ]
  },
  {
   "cell_type": "code",
   "execution_count": 26,
   "metadata": {
    "ExecuteTime": {
     "end_time": "2023-05-29T15:17:38.778134Z",
     "start_time": "2023-05-29T15:17:38.774161Z"
    }
   },
   "outputs": [
    {
     "data": {
      "text/plain": [
       "(100000,)"
      ]
     },
     "execution_count": 26,
     "metadata": {},
     "output_type": "execute_result"
    }
   ],
   "source": [
    "y_train_set.shape"
   ]
  },
  {
   "cell_type": "code",
   "execution_count": 27,
   "metadata": {
    "ExecuteTime": {
     "end_time": "2023-05-29T15:17:38.784919Z",
     "start_time": "2023-05-29T15:17:38.779742Z"
    }
   },
   "outputs": [
    {
     "data": {
      "text/plain": [
       "(array([0, 1]), array([50425, 49575]))"
      ]
     },
     "execution_count": 27,
     "metadata": {},
     "output_type": "execute_result"
    }
   ],
   "source": [
    "np.unique(y_train_set, return_counts=True)"
   ]
  },
  {
   "cell_type": "markdown",
   "metadata": {},
   "source": [
    "#### Step 3.4: Get `x_test_set` and `y_test_set`"
   ]
  },
  {
   "cell_type": "code",
   "execution_count": 28,
   "metadata": {
    "ExecuteTime": {
     "end_time": "2023-05-29T15:17:38.852243Z",
     "start_time": "2023-05-29T15:17:38.786554Z"
    }
   },
   "outputs": [],
   "source": [
    "# equal pairs of expanded test rows\n",
    "equals_pairs = []\n",
    "random_entries = np.random.randint(0, expanded_test.shape[0]-1, (n_pairs//2, 1))\n",
    "for user_i in random_entries:\n",
    "    equals_pairs.append([user_i[0], user_i[0]+1])\n",
    "\n",
    "equals_pairs = np.array(equals_pairs)"
   ]
  },
  {
   "cell_type": "code",
   "execution_count": 29,
   "metadata": {
    "ExecuteTime": {
     "end_time": "2023-05-29T15:17:38.857668Z",
     "start_time": "2023-05-29T15:17:38.854374Z"
    }
   },
   "outputs": [],
   "source": [
    "# random pairs of expanded test rows\n",
    "random_pairs = np.random.randint(0, expanded_test.shape[0], (n_pairs//2, 2))"
   ]
  },
  {
   "cell_type": "code",
   "execution_count": 30,
   "metadata": {
    "ExecuteTime": {
     "end_time": "2023-05-29T15:17:38.946175Z",
     "start_time": "2023-05-29T15:17:38.859643Z"
    }
   },
   "outputs": [],
   "source": [
    "pairs = np.concatenate([equals_pairs, random_pairs])\n",
    "np.random.shuffle(pairs)"
   ]
  },
  {
   "cell_type": "code",
   "execution_count": 31,
   "metadata": {
    "ExecuteTime": {
     "end_time": "2023-05-29T15:19:40.722322Z",
     "start_time": "2023-05-29T15:17:38.948415Z"
    }
   },
   "outputs": [],
   "source": [
    "x_test_set = []\n",
    "y_test_set = []\n",
    "for user_i, user_j in pairs:\n",
    "    x_test_set.append([expanded_test.iloc[user_i], expanded_test.iloc[user_j]])\n",
    "    if expanded_test.iloc[user_i].name == expanded_test.iloc[user_j].name:\n",
    "        y_test_set.append(1)\n",
    "    else:\n",
    "        y_test_set.append(0)\n",
    "\n",
    "x_test_set = np.array(x_test_set)\n",
    "y_test_set = np.array(y_test_set)"
   ]
  },
  {
   "cell_type": "code",
   "execution_count": 32,
   "metadata": {
    "ExecuteTime": {
     "end_time": "2023-05-29T15:19:40.730284Z",
     "start_time": "2023-05-29T15:19:40.724802Z"
    },
    "scrolled": true
   },
   "outputs": [
    {
     "data": {
      "text/plain": [
       "(100000, 2, 1682)"
      ]
     },
     "execution_count": 32,
     "metadata": {},
     "output_type": "execute_result"
    }
   ],
   "source": [
    "x_test_set.shape"
   ]
  },
  {
   "cell_type": "code",
   "execution_count": 33,
   "metadata": {
    "ExecuteTime": {
     "end_time": "2023-05-29T15:19:40.735172Z",
     "start_time": "2023-05-29T15:19:40.731772Z"
    }
   },
   "outputs": [
    {
     "data": {
      "text/plain": [
       "(100000,)"
      ]
     },
     "execution_count": 33,
     "metadata": {},
     "output_type": "execute_result"
    }
   ],
   "source": [
    "y_test_set.shape"
   ]
  },
  {
   "cell_type": "code",
   "execution_count": 34,
   "metadata": {
    "ExecuteTime": {
     "end_time": "2023-05-29T15:19:40.741639Z",
     "start_time": "2023-05-29T15:19:40.736649Z"
    }
   },
   "outputs": [
    {
     "data": {
      "text/plain": [
       "(array([0, 1]), array([50253, 49747]))"
      ]
     },
     "execution_count": 34,
     "metadata": {},
     "output_type": "execute_result"
    }
   ],
   "source": [
    "np.unique(y_test_set, return_counts=True)"
   ]
  },
  {
   "cell_type": "code",
   "execution_count": 35,
   "metadata": {
    "ExecuteTime": {
     "end_time": "2023-05-29T15:19:40.876153Z",
     "start_time": "2023-05-29T15:19:40.742901Z"
    }
   },
   "outputs": [],
   "source": [
    "latent_dim = 20\n",
    "\n",
    "def euclidean_distance(vects):\n",
    "    \"\"\"Find the Euclidean distance between two vectors.\n",
    "\n",
    "    Arguments:\n",
    "        vects: List containing two tensors of same length.\n",
    "\n",
    "    Returns:\n",
    "        Tensor containing euclidean distance\n",
    "        (as floating point value) between vectors.\n",
    "    \"\"\"\n",
    "\n",
    "    x, y = vects\n",
    "    sum_square = tf.math.reduce_sum(tf.math.square(x - y), axis=1, keepdims=True)\n",
    "    return tf.math.sqrt(tf.math.maximum(sum_square, tf.keras.backend.epsilon()))\n",
    "\n",
    "\n",
    "input = layers.Input((x_train_set.shape[2]))\n",
    "x = layers.Dense(10, activation=\"relu\")(input)\n",
    "x = layers.Dense(latent_dim, activation=\"relu\")(x)\n",
    "embedding_network = keras.Model(input, x)\n",
    "input_1 = layers.Input((x_train_set.shape[2]))\n",
    "input_2 = layers.Input((x_train_set.shape[2]))\n",
    "\n",
    "tower_1 = embedding_network(input_1)\n",
    "tower_2 = embedding_network(input_2)\n",
    "\n",
    "merge_layer = layers.Lambda(euclidean_distance)([tower_1, tower_2])\n",
    "middle_layer = layers.Dense(50, activation=\"relu\")(merge_layer)\n",
    "dr_middle_layer = layers.Dropout(0.4)(middle_layer)\n",
    "output_layer = layers.Dense(1, activation=\"sigmoid\")(dr_middle_layer)\n",
    "siamese = keras.Model(inputs=[input_1, input_2], outputs=output_layer)"
   ]
  },
  {
   "cell_type": "code",
   "execution_count": 36,
   "metadata": {
    "ExecuteTime": {
     "end_time": "2023-05-29T15:19:40.882913Z",
     "start_time": "2023-05-29T15:19:40.878545Z"
    }
   },
   "outputs": [],
   "source": [
    "def loss(margin=1):\n",
    "    \"\"\"Provides 'contrastive_loss' an enclosing scope with variable 'margin'.\n",
    "\n",
    "    Arguments:\n",
    "        margin: Integer, defines the baseline for distance for which pairs\n",
    "                should be classified as dissimilar. - (default is 1).\n",
    "\n",
    "    Returns:\n",
    "        'contrastive_loss' function with data ('margin') attached.\n",
    "    \"\"\"\n",
    "\n",
    "    # Contrastive loss = mean( (1-true_value) * square(prediction) +\n",
    "    #                         true_value * square( max(1-prediction, 0) ))\n",
    "    def contrastive_loss(y_true, y_pred):\n",
    "        \"\"\"Calculates the contrastive loss.\n",
    "\n",
    "        Arguments:\n",
    "            y_true: List of labels, each label is of type float32.\n",
    "            y_pred: List of predictions of same length as of y_true,\n",
    "                    each label is of type float32.\n",
    "\n",
    "        Returns:\n",
    "            A tensor containing contrastive loss as floating point value.\n",
    "        \"\"\"\n",
    "\n",
    "        square_pred = tf.math.square(y_pred)\n",
    "        margin_square = tf.math.square(tf.math.maximum(margin - (y_pred), 0))\n",
    "        return tf.math.reduce_mean(\n",
    "            (1 - y_true) * square_pred + (y_true) * margin_square\n",
    "        )\n",
    "\n",
    "    return contrastive_loss"
   ]
  },
  {
   "cell_type": "code",
   "execution_count": 37,
   "metadata": {
    "ExecuteTime": {
     "end_time": "2023-05-29T15:20:03.560992Z",
     "start_time": "2023-05-29T15:19:40.884928Z"
    }
   },
   "outputs": [
    {
     "name": "stdout",
     "output_type": "stream",
     "text": [
      "Model: \"functional_3\"\n",
      "__________________________________________________________________________________________________\n",
      "Layer (type)                    Output Shape         Param #     Connected to                     \n",
      "==================================================================================================\n",
      "input_2 (InputLayer)            [(None, 1682)]       0                                            \n",
      "__________________________________________________________________________________________________\n",
      "input_3 (InputLayer)            [(None, 1682)]       0                                            \n",
      "__________________________________________________________________________________________________\n",
      "functional_1 (Functional)       (None, 20)           17050       input_2[0][0]                    \n",
      "                                                                 input_3[0][0]                    \n",
      "__________________________________________________________________________________________________\n",
      "lambda (Lambda)                 (None, 1)            0           functional_1[0][0]               \n",
      "                                                                 functional_1[1][0]               \n",
      "__________________________________________________________________________________________________\n",
      "dense_2 (Dense)                 (None, 50)           100         lambda[0][0]                     \n",
      "__________________________________________________________________________________________________\n",
      "dropout (Dropout)               (None, 50)           0           dense_2[0][0]                    \n",
      "__________________________________________________________________________________________________\n",
      "dense_3 (Dense)                 (None, 1)            51          dropout[0][0]                    \n",
      "==================================================================================================\n",
      "Total params: 17,201\n",
      "Trainable params: 17,201\n",
      "Non-trainable params: 0\n",
      "__________________________________________________________________________________________________\n",
      "Epoch 1/10\n",
      "196/196 [==============================] - 3s 16ms/step - loss: 0.2504 - accuracy: 0.5032 - val_loss: 0.2498 - val_accuracy: 0.5025\n",
      "Epoch 2/10\n",
      "196/196 [==============================] - 2s 9ms/step - loss: 0.2425 - accuracy: 0.5310 - val_loss: 0.2050 - val_accuracy: 0.6418\n",
      "Epoch 3/10\n",
      "196/196 [==============================] - 2s 9ms/step - loss: 0.1620 - accuracy: 0.7822 - val_loss: 0.1215 - val_accuracy: 0.8478\n",
      "Epoch 4/10\n",
      "196/196 [==============================] - 2s 9ms/step - loss: 0.1102 - accuracy: 0.8601 - val_loss: 0.1015 - val_accuracy: 0.8683\n",
      "Epoch 5/10\n",
      "196/196 [==============================] - 2s 10ms/step - loss: 0.0938 - accuracy: 0.8823 - val_loss: 0.0905 - val_accuracy: 0.8843\n",
      "Epoch 6/10\n",
      "196/196 [==============================] - 2s 10ms/step - loss: 0.0848 - accuracy: 0.8954 - val_loss: 0.0836 - val_accuracy: 0.8954\n",
      "Epoch 7/10\n",
      "196/196 [==============================] - 2s 10ms/step - loss: 0.0793 - accuracy: 0.9025 - val_loss: 0.0798 - val_accuracy: 0.9000\n",
      "Epoch 8/10\n",
      "196/196 [==============================] - 2s 10ms/step - loss: 0.0750 - accuracy: 0.9081 - val_loss: 0.0777 - val_accuracy: 0.9025\n",
      "Epoch 9/10\n",
      "196/196 [==============================] - 2s 10ms/step - loss: 0.0726 - accuracy: 0.9115 - val_loss: 0.0744 - val_accuracy: 0.9073\n",
      "Epoch 10/10\n",
      "196/196 [==============================] - 2s 11ms/step - loss: 0.0706 - accuracy: 0.9146 - val_loss: 0.0748 - val_accuracy: 0.9062\n"
     ]
    }
   ],
   "source": [
    "epochs = 10\n",
    "batch_size = 512\n",
    "margin = 1\n",
    "\n",
    "y_train_set = y_train_set.astype(np.float64)\n",
    "y_test_set = y_test_set.astype(np.float64)\n",
    "\n",
    "siamese.compile(loss=loss(margin=margin), optimizer=\"RMSprop\", metrics=[\"accuracy\"])\n",
    "siamese.summary()\n",
    "\n",
    "history = siamese.fit(\n",
    "    [x_train_set[:,0,:], x_train_set[:,1,:]], y_train_set,\n",
    "    validation_data=([x_test_set[:,0,:], x_test_set[:,1,:]], y_test_set),\n",
    "    batch_size=batch_size,\n",
    "    epochs=epochs,\n",
    ")"
   ]
  },
  {
   "cell_type": "code",
   "execution_count": 38,
   "metadata": {
    "ExecuteTime": {
     "end_time": "2023-05-29T15:20:03.788587Z",
     "start_time": "2023-05-29T15:20:03.565397Z"
    }
   },
   "outputs": [
    {
     "data": {
      "image/png": "[encoded data removed]",
      "text/plain": [
       "<Figure size 1224x360 with 2 Axes>"
      ]
     },
     "metadata": {
      "needs_background": "light"
     },
     "output_type": "display_data"
    }
   ],
   "source": [
    "def plot(h,epochs):\n",
    "    LOSS = 0; ACCURACY = 1\n",
    "    training = np.zeros((2,epochs)); testing = np.zeros((2,epochs))\n",
    "    training[LOSS] = h.history['loss']\n",
    "    testing[LOSS] = h.history['val_loss']    # validation loss\n",
    "    training[ACCURACY] = h.history['accuracy']\n",
    "    testing[ACCURACY] = h.history['val_accuracy']  # validation accuracy\n",
    "\n",
    "    epochs = range(1,epochs+1)\n",
    "    fig, axs = plt.subplots(1,2, figsize=(17,5))\n",
    "    for i, label in zip((LOSS, ACCURACY),('contrastive loss', 'accuracy')):   \n",
    "        axs[i].plot(epochs, training[i], 'black', linestyle = '--', label='Train ' + label)\n",
    "        axs[i].plot(epochs, testing[i], 'black', label='Test ' + label)\n",
    "\n",
    "        axs[i].set_xlabel('Epochs')\n",
    "        axs[i].set_ylabel(label)\n",
    "        axs[i].legend()\n",
    "        axs[i].grid(True)\n",
    "    plt.show()\n",
    "\n",
    "plot(history,epochs)"
   ]
  },
  {
   "cell_type": "markdown",
   "metadata": {},
   "source": [
    "### Step 4: Create test suite for similarity"
   ]
  },
  {
   "cell_type": "code",
   "execution_count": 39,
   "metadata": {
    "ExecuteTime": {
     "end_time": "2023-05-29T15:20:03.809014Z",
     "start_time": "2023-05-29T15:20:03.791825Z"
    }
   },
   "outputs": [],
   "source": [
    "def make_oneshot_task(n_ways=16):\n",
    "    \"\"\"\n",
    "    Arguments:\n",
    "      n_ways: Number of vectors to generate\n",
    "      \n",
    "    Returns:\n",
    "      An two rows array with vote vectors, the first one with n_ways times the selected vector\n",
    "      for the study of similarity, and a second row with vector variations, including\n",
    "      the vector selected for the similarity study.\n",
    "      It also returns an array indicating the position of the variation of the selected vector.\n",
    "      for the similarity study in the second row.\n",
    "    \"\"\"\n",
    "    # n_ways vectors are random selected from the test set\n",
    "    # a principal vector V and n_ways-1 test vectors different from vector V\n",
    "    random_vectors = np.random.choice(test.index, n_ways, replace=False)\n",
    "    # we randomly choose the vector V from among the n_ways vectors \n",
    "    v_pos = np.random.choice(n_ways)\n",
    "    v_index = random_vectors[v_pos]\n",
    "\n",
    "    # the original vectors are stored in expanded_test.loc[index].iloc[0]\n",
    "    # variations of the original vectors are stored in expanded_test.loc[index].iloc[1...num_comb]\n",
    "    \n",
    "    # in the first row we put n_ways times the vector V\n",
    "    row_1 = np.array([expanded_test.loc[v_index].iloc[0] for i in range(n_ways)])\n",
    "    # in the second row we put variations of the random_vectors\n",
    "    row_2 = np.array([expanded_test.loc[index].iloc[1] for index in random_vectors])\n",
    "    \n",
    "    # return pairs, targets\n",
    "    pairs = np.vstack([[row_1], [row_2]])\n",
    "    targets = np.tile(0, n_ways)\n",
    "    targets[v_pos] = 1\n",
    "    return pairs, targets"
   ]
  },
  {
   "cell_type": "code",
   "execution_count": 40,
   "metadata": {
    "ExecuteTime": {
     "end_time": "2023-05-29T15:20:03.815702Z",
     "start_time": "2023-05-29T15:20:03.811128Z"
    }
   },
   "outputs": [],
   "source": [
    "def nearest_neighbour_correct(pairs,targets,similarity_measure):\n",
    "    \"\"\"returns 1 if nearest neighbour gets the correct answer for a one-shot task\n",
    "        given by (pairs, targets)\"\"\"\n",
    "    distances = similarity_measure(pairs[0,:,:],pairs[1,:,:])\n",
    "    if np.argmin(distances) == np.argmax(targets):\n",
    "        return 1\n",
    "    return 0\n",
    "\n",
    "def nearest_neighbour_correct_siamese(pairs,targets,similarity_measure):\n",
    "    \"\"\"returns 1 if nearest neighbour gets the correct answer for a one-shot task\n",
    "        given by (pairs, targets)\"\"\"\n",
    "    distances = similarity_measure([pairs[0,:,:],pairs[1,:,:]], verbose=0)\n",
    "    if np.argmin(distances) == np.argmax(targets):\n",
    "        return 1\n",
    "    return 0"
   ]
  },
  {
   "cell_type": "code",
   "execution_count": 41,
   "metadata": {
    "ExecuteTime": {
     "end_time": "2023-05-29T15:21:45.338914Z",
     "start_time": "2023-05-29T15:20:03.817866Z"
    }
   },
   "outputs": [
    {
     "name": "stdout",
     "output_type": "stream",
     "text": [
      "euclidean [26.5  9.5  3. ]\n",
      "correlation [23.5 11.5  0.5]\n",
      "cosine [18.5  6.   1. ]\n",
      "manhattan [28.5 11.5  4. ]\n",
      "jaccard [20.   4.5  2. ]\n",
      "msd [20.5 11.5  3.5]\n",
      "jmsd [19.5  9.   3. ]\n",
      "siamese [35. 17. 12.]\n"
     ]
    }
   ],
   "source": [
    "def euclidean(X,Y):\n",
    "    result = np.zeros((X.shape[0]))\n",
    "    for batch in range(len(X)):\n",
    "        acc = 0.0\n",
    "        for i in range(X.shape[0]):\n",
    "            if X[batch][i] != 0 and Y[batch][i] !=0:\n",
    "                acc += (X[batch][i] - Y[batch][i]) ** 2\n",
    "        result[batch] = math.sqrt(acc)\n",
    "    return result\n",
    "\n",
    "\n",
    "def cosine(X,Y):\n",
    "    result = np.zeros((X.shape[0]))\n",
    "    for batch in range(len(X)):\n",
    "        acc = 0.0; den1 = 0.0; den2 = 0.0\n",
    "        for i in range(X.shape[0]):\n",
    "            if X[batch][i] != 0 and Y[batch][i] !=0:\n",
    "                acc += X[batch][i]*Y[batch][i]\n",
    "                den1 += X[batch][i]**2\n",
    "                den2 += Y[batch][i]**2\n",
    "        if den1==0.0 or den2==0.0:\n",
    "            result[batch]=0.0\n",
    "        else:\n",
    "            result[batch] = acc / (math.sqrt(den1)*math.sqrt(den2))\n",
    "    return result\n",
    " \n",
    "def jaccard(X,Y):\n",
    "    result = np.zeros((X.shape[0]))\n",
    "    for batch in range(len(X)):\n",
    "        intersection = 0; union = 0\n",
    "        for i in range(X.shape[0]):\n",
    "            if X[batch][i] != 0 and Y[batch][i] !=0:\n",
    "                intersection += 1\n",
    "            elif not(X[batch][i] != 0 or Y[batch][i] != 0):\n",
    "                union += 1\n",
    "\n",
    "        if union == 0.0:\n",
    "            result[batch]=0.0\n",
    "        else:\n",
    "            result[batch] = intersection / union\n",
    "    return result\n",
    "\n",
    "def msd(X,Y):\n",
    "    result = np.zeros((X.shape[0]))\n",
    "    for batch in range(len(X)):\n",
    "        acc = 0.0; den = 0\n",
    "        for i in range(X.shape[0]):\n",
    "            if X[batch][i] != 0 and Y[batch][i] !=0:\n",
    "                acc += (X[batch][i]-Y[batch][i])**2\n",
    "                den += 1\n",
    "        if den == 0:\n",
    "            result[batch]=0.0\n",
    "        else:\n",
    "            result[batch] = acc / den\n",
    "    return result\n",
    "\n",
    "def jmsd(X,Y):\n",
    "    return jaccard(X,Y) * msd(X,Y)\n",
    "\n",
    "def manhattan(X,Y):\n",
    "    result = np.zeros((X.shape[0]))\n",
    "    for batch in range(len(X)):\n",
    "        acc = 0.0; den = 0\n",
    "        for i in range(X.shape[0]):\n",
    "            if X[batch][i] != 0 and Y[batch][i] !=0:\n",
    "                acc += abs(X[batch][i]-Y[batch][i])\n",
    "                den += 1\n",
    "        if den == 0:\n",
    "            result[batch]=0.0\n",
    "        else:\n",
    "            result[batch] = acc / den\n",
    "    return result\n",
    "\n",
    "def correlation(X,Y):\n",
    "    result = np.zeros((X.shape[0]))\n",
    "    meanX = np.mean(X)\n",
    "    meanY = np.mean(Y)\n",
    "    for batch in range(len(X)):\n",
    "        acc = 0.0; den1 = 0.0; den2 = 0.0\n",
    "        for i in range(X.shape[0]):\n",
    "            if X[batch][i] != 0 and Y[batch][i] !=0:\n",
    "                Xm = X[batch][i]-meanX\n",
    "                Ym = Y[batch][i]-meanY\n",
    "                acc += Xm*Ym\n",
    "                den1 += Xm**2\n",
    "                den2 += Ym**2\n",
    "        den = math.sqrt(den1*den2)\n",
    "        if den == 0.0:\n",
    "            result[batch] = 0.0\n",
    "        else:\n",
    "            result[batch] = 1 - (acc / den)\n",
    "    return result\n",
    "\n",
    "    \n",
    "\n",
    "def test_nn_accuracy(N_ways,n_trials,similarity_measure, siamese):\n",
    "    n_right = 0\n",
    "    \n",
    "    for i in range(n_trials):\n",
    "        pairs,targets = make_oneshot_task(N_ways)\n",
    "        if siamese:\n",
    "            correct = nearest_neighbour_correct_siamese(pairs,targets,similarity_measure)\n",
    "        else:\n",
    "            correct = nearest_neighbour_correct(pairs,targets,similarity_measure)   \n",
    "        n_right += correct\n",
    "    return 100.0 * n_right / n_trials\n",
    "\n",
    "SIAMESE = True;\n",
    "N_WAYS = [4,8,16]\n",
    "SIMILARITIES = [\"euclidean\", \"correlation\", \"cosine\", \"manhattan\",\n",
    "                 \"jaccard\", \"msd\", \"jmsd\", \"siamese\"]\n",
    "result = np.zeros((len(SIMILARITIES),len(N_WAYS)))\n",
    "for s,similarity in enumerate(SIMILARITIES):\n",
    "    for n,n_ways in enumerate(N_WAYS):\n",
    "        if similarity == \"siamese\": \n",
    "            result[s][n] = test_nn_accuracy(n_ways,200,siamese.predict,SIAMESE)\n",
    "        else:\n",
    "            result[s][n] = test_nn_accuracy(n_ways,200,eval(similarity),not SIAMESE)\n",
    "    print(similarity, result[s])"
   ]
  },
  {
   "cell_type": "code",
   "execution_count": 42,
   "metadata": {
    "ExecuteTime": {
     "end_time": "2023-05-29T15:21:45.455023Z",
     "start_time": "2023-05-29T15:21:45.341449Z"
    },
    "scrolled": true
   },
   "outputs": [
    {
     "data": {
      "image/png": "[encoded data removed]",
      "text/plain": [
       "<Figure size 432x288 with 1 Axes>"
      ]
     },
     "metadata": {
      "needs_background": "light"
     },
     "output_type": "display_data"
    }
   ],
   "source": [
    "np.save(\"result-150-350.npy\",result)\n",
    "\n",
    "plt.figure()\n",
    "plt.rcParams['font.size'] = '16'\n",
    "\n",
    "colors = ['orange','pink','salmon','red','cyan','blue',\"violet\", \"black\"]\n",
    "for s,similarity in enumerate(SIMILARITIES):\n",
    "    plt.plot(N_WAYS, result[s],color=colors[s], label=similarity)\n",
    "plt.legend(bbox_to_anchor = (1.5,1.04), loc='upper right')\n",
    "plt.xticks(N_WAYS)\n",
    "plt.yticks(range(5,50,5))\n",
    "plt.xlabel(\"N_Ways\")\n",
    "plt.ylabel(\"% Accuracy\")\n",
    "plt.grid(True)\n",
    "plt.show()"
   ]
  }
 ],
 "metadata": {
  "kernelspec": {
   "display_name": "Python 3",
   "language": "python",
   "name": "python3"
  },
  "language_info": {
   "codemirror_mode": {
    "name": "ipython",
    "version": 3
   },
   "file_extension": ".py",
   "mimetype": "text/x-python",
   "name": "python",
   "nbconvert_exporter": "python",
   "pygments_lexer": "ipython3",
   "version": "3.8.5"
  },
  "toc": {
   "base_numbering": 1,
   "nav_menu": {},
   "number_sections": false,
   "sideBar": true,
   "skip_h1_title": false,
   "title_cell": "Table of Contents",
   "title_sidebar": "Contents",
   "toc_cell": false,
   "toc_position": {},
   "toc_section_display": true,
   "toc_window_display": false
  }
 },
 "nbformat": 4,
 "nbformat_minor": 5
}
